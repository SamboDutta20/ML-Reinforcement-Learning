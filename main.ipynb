{
 "cells": [
  {
   "cell_type": "markdown",
   "metadata": {
    "colab_type": "text",
    "id": "F1sa_QJ55-fu"
   },
   "source": [
    "# **Project 4 - Q Learning**\n",
    "\n",
    "For this project, you will be tasked with both implementing and explaining key components of the Q-learning algorithm.\n",
    "\n",
    "All the code deliverables has to be provided within this notebook.\n",
    "\n",
    "# 1 - Packages\n",
    "Let's first import all the packages that you will need during this assignment.\n",
    "\n",
    "* \n",
    "[numpy](https://numpy.org/) - is the main package for scientific computing with Python\n",
    "*\n",
    "[matplotlib](https://matplotlib.org/) - is a plotting library\n",
    "*\n",
    "[gym](https://gym.openai.com/docs/) - Gym is a toolkit for developing and comparing reinforcement learning algorithms.\n",
    "*\n",
    "[gym.spaces](http://gym.openai.com/docs/) - Every environment comes with an action_space and an observation_space. These attributes are of type Space, and they describe the format of valid actions and observations.\n",
    "*\n",
    "[time](https://docs.python.org/3/library/time.html?highlight=time#module-time) - will be used to track how much time each computation takes\n",
    "*\n",
    "[copy](https://docs.python.org/3/library/copy.html) - A copy is sometimes needed so one can change one copy without changing the other.\n",
    "*\n",
    "[Threading](https://docs.python.org/3/library/threading.html) - This module constructs higher-level threading interfaces on top of the lower level thread module.\n",
    "*\n",
    "[Collections](https://docs.python.org/2/library/collections.html) - This module implements specialized container datatypes providing alternatives to Python’s general purpose built-in containers, dict, list, set, and tuple.\n"
   ]
  },
  {
   "cell_type": "code",
   "execution_count": 1,
   "metadata": {
    "colab": {},
    "colab_type": "code",
    "id": "M_PLd07ie8k1"
   },
   "outputs": [],
   "source": [
    "#######################################################################\n",
    "# Authors:\n",
    "# Nathan Margaglio (nathanmargaglio@gmail.com)                                                          \n",
    "# Mihir Hemant Chauhan (mihirhem@buffalo.edu)                       \n",
    "# Qian Cheng (qcheng2@buffalo.edu)                            \n",
    "#######################################################################\n",
    "import numpy as np\n",
    "import matplotlib.pyplot as plt\n",
    "import gym\n",
    "import gym.spaces\n",
    "import time\n",
    "import copy\n",
    "import threading\n",
    "import time\n",
    "import collections"
   ]
  },
  {
   "cell_type": "markdown",
   "metadata": {
    "colab_type": "text",
    "id": "6AsLthEre8kw"
   },
   "source": [
    "`## Basic Environment\n",
    "Here we define our grid-world environment. No need to make any changes."
   ]
  },
  {
   "cell_type": "code",
   "execution_count": 2,
   "metadata": {
    "colab": {},
    "colab_type": "code",
    "id": "1KZhxOunpbNp"
   },
   "outputs": [],
   "source": [
    "class GridEnvironment(gym.Env):\n",
    "    metadata = { 'render.modes': ['human'] }\n",
    "    \n",
    "    def __init__(self, normalize=False, size=4):\n",
    "        self.observation_space = gym.spaces.Box(0, size, (size,))\n",
    "        self.action_space = gym.spaces.Discrete(4)\n",
    "        self.max_timesteps = size*2 + 1\n",
    "        self.normalize = normalize\n",
    "        self.size = size\n",
    "\n",
    "        # Generate State Transition Table\n",
    "        self.transition_matrix = []\n",
    "        for x in range(size + 1):\n",
    "            state_x = []\n",
    "            for y in range(size + 1):\n",
    "                state_y = []\n",
    "                for a in range(4):\n",
    "                    one_hot = np.zeros(4)\n",
    "                    one_hot[a] = 1\n",
    "                    state_y.append(one_hot)\n",
    "                state_x.append(state_y)\n",
    "            self.transition_matrix.append(state_x)\n",
    "        \n",
    "    def transition_func(self, x, y, action, return_probs=False):\n",
    "        probs = self.transition_matrix[x][y][action]\n",
    "        if return_probs:\n",
    "            return probs\n",
    "        else:\n",
    "            return np.random.choice(len(probs), p=probs)\n",
    "\n",
    "    def _get_distance(self, x, y):\n",
    "        return abs(x[0] - y[0]) + abs(x[1] - y[1])\n",
    "        \n",
    "    def reset(self):\n",
    "        self.timestep = 0\n",
    "        self.agent_pos = [0, 0]\n",
    "        self.goal_pos = [self.size, self.size]\n",
    "        self.state = np.zeros((self.size + 1, self.size + 1))\n",
    "        self.state[tuple(self.agent_pos)] = 1\n",
    "        self.state[tuple(self.goal_pos)] = 0.5\n",
    "        self.prev_distance = self._get_distance(self.agent_pos, self.goal_pos)\n",
    "        return np.array(self.agent_pos)/1.\n",
    "    \n",
    "    def step(self, action):\n",
    "        action_taken = self.transition_func(self.agent_pos[0], self.agent_pos[1], action)\n",
    "        self.state = np.random.choice(self.observation_space.shape[0])\n",
    "        if action_taken == 0:\n",
    "            self.agent_pos[0] += 1\n",
    "        if action_taken == 1:\n",
    "            self.agent_pos[0] -= 1\n",
    "        if action_taken == 2:\n",
    "            self.agent_pos[1] += 1\n",
    "        if action_taken == 3:\n",
    "            self.agent_pos[1] -= 1\n",
    "          \n",
    "        self.agent_pos = np.clip(self.agent_pos, 0, self.size)\n",
    "        self.state = np.zeros((self.size + 1, self.size + 1))\n",
    "        self.state[tuple(self.agent_pos)] = 1\n",
    "        self.state[tuple(self.goal_pos)] = 0.5\n",
    "        \n",
    "        current_distance = self._get_distance(self.agent_pos, self.goal_pos)\n",
    "        if current_distance < self.prev_distance:\n",
    "            reward = 1\n",
    "        elif current_distance > self.prev_distance:\n",
    "            reward = -1\n",
    "        else:\n",
    "            reward = -1\n",
    "        self.prev_distance = current_distance\n",
    "        \n",
    "        self.timestep += 1\n",
    "        if self.timestep >= self.max_timesteps or current_distance == 0:\n",
    "            done = True\n",
    "        else:\n",
    "            done = False\n",
    "        info = {}\n",
    "        \n",
    "        obs = self.agent_pos\n",
    "        if self.normalize:\n",
    "            obs = obs/self.size\n",
    "        return obs, reward, done, info\n",
    "        \n",
    "    def render(self, mode='human'):\n",
    "        plt.imshow(self.state)"
   ]
  },
  {
   "cell_type": "code",
   "execution_count": 3,
   "metadata": {
    "colab": {
     "base_uri": "https://localhost:8080/",
     "height": 265
    },
    "colab_type": "code",
    "id": "hy2YHvlNe8lW",
    "outputId": "0915a1ec-cc2e-4a59-bf6e-8b0597cb106c"
   },
   "outputs": [
    {
     "data": {
      "image/png": "[encoded data removed]",
      "text/plain": [
       "<Figure size 432x288 with 1 Axes>"
      ]
     },
     "metadata": {
      "needs_background": "light"
     },
     "output_type": "display_data"
    }
   ],
   "source": [
    "env = GridEnvironment()\n",
    "obs = env.reset()\n",
    "env.render()"
   ]
  },
  {
   "cell_type": "markdown",
   "metadata": {
    "colab_type": "text",
    "id": "Bc3VOQuJF1el"
   },
   "source": [
    "## Random Agent\n",
    "This runs the environment with a random agent that just takes random actions. Neither does he learn, nor remember anything. Try to run it!"
   ]
  },
  {
   "cell_type": "code",
   "execution_count": 4,
   "metadata": {
    "colab": {},
    "colab_type": "code",
    "id": "z9XqqwQtFr8k"
   },
   "outputs": [],
   "source": [
    "class RandomAgent:\n",
    "    def __init__(self, env):\n",
    "        self.env = env\n",
    "        self.observation_space = env.observation_space\n",
    "        self.action_space = env.action_space\n",
    "\n",
    "    def policy(self, observation):\n",
    "        return np.random.choice(self.action_space.n)\n",
    "        \n",
    "    def step(self, observation, verbose=False):\n",
    "        return self.policy(observation)"
   ]
  },
  {
   "cell_type": "code",
   "execution_count": 5,
   "metadata": {
    "colab": {
     "base_uri": "https://localhost:8080/",
     "height": 1000
    },
    "colab_type": "code",
    "id": "0S5tBBqfF-s3",
    "outputId": "1adb15a1-6417-44bd-ef70-597455184cf1"
   },
   "outputs": [
    {
     "data": {
      "image/png": "[encoded data removed]",
      "text/plain": [
       "<Figure size 432x288 with 1 Axes>"
      ]
     },
     "metadata": {
      "needs_background": "light"
     },
     "output_type": "display_data"
    },
    {
     "data": {
      "image/png": "[encoded data removed]",
      "text/plain": [
       "<Figure size 432x288 with 1 Axes>"
      ]
     },
     "metadata": {
      "needs_background": "light"
     },
     "output_type": "display_data"
    },
    {
     "data": {
      "image/png": "[encoded data removed]",
      "text/plain": [
       "<Figure size 432x288 with 1 Axes>"
      ]
     },
     "metadata": {
      "needs_background": "light"
     },
     "output_type": "display_data"
    },
    {
     "data": {
      "image/png": "[encoded data removed]",
      "text/plain": [
       "<Figure size 432x288 with 1 Axes>"
      ]
     },
     "metadata": {
      "needs_background": "light"
     },
     "output_type": "display_data"
    },
    {
     "data": {
      "image/png": "[encoded data removed]",
      "text/plain": [
       "<Figure size 432x288 with 1 Axes>"
      ]
     },
     "metadata": {
      "needs_background": "light"
     },
     "output_type": "display_data"
    },
    {
     "data": {
      "image/png": "[encoded data removed]",
      "text/plain": [
       "<Figure size 432x288 with 1 Axes>"
      ]
     },
     "metadata": {
      "needs_background": "light"
     },
     "output_type": "display_data"
    },
    {
     "data": {
      "image/png": "[encoded data removed]",
      "text/plain": [
       "<Figure size 432x288 with 1 Axes>"
      ]
     },
     "metadata": {
      "needs_background": "light"
     },
     "output_type": "display_data"
    },
    {
     "data": {
      "image/png": "[encoded data removed]",
      "text/plain": [
       "<Figure size 432x288 with 1 Axes>"
      ]
     },
     "metadata": {
      "needs_background": "light"
     },
     "output_type": "display_data"
    },
    {
     "data": {
      "image/png": "[encoded data removed]",
      "text/plain": [
       "<Figure size 432x288 with 1 Axes>"
      ]
     },
     "metadata": {
      "needs_background": "light"
     },
     "output_type": "display_data"
    },
    {
     "data": {
      "image/png": "[encoded data removed]",
      "text/plain": [
       "<Figure size 432x288 with 1 Axes>"
      ]
     },
     "metadata": {
      "needs_background": "light"
     },
     "output_type": "display_data"
    }
   ],
   "source": [
    "env = GridEnvironment(normalize=True)\n",
    "agent = RandomAgent(env)\n",
    "\n",
    "obs = env.reset()\n",
    "done = False\n",
    "agent.epsilon = 0\n",
    "env.render()\n",
    "plt.show()\n",
    "\n",
    "while not done:\n",
    "    action = agent.step(obs, verbose=True)\n",
    "    obs, reward, done, info = env.step(action)\n",
    "    env.render()\n",
    "    plt.show()"
   ]
  },
  {
   "cell_type": "markdown",
   "metadata": {
    "colab_type": "text",
    "id": "JCKzZh7u0zFJ"
   },
   "source": [
    "## Heuristic Agent\n",
    "This runs the environment with a heuristic agent. No need to make any changes. Try to run it!"
   ]
  },
  {
   "cell_type": "code",
   "execution_count": 6,
   "metadata": {
    "colab": {},
    "colab_type": "code",
    "id": "aVGLhrTG0yQp"
   },
   "outputs": [],
   "source": [
    "class HeuristicAgent:\n",
    "    def __init__(self, env):\n",
    "        self.env = env\n",
    "        self.observation_space = env.observation_space\n",
    "        self.action_space = env.action_space\n",
    "\n",
    "    def policy(self, observation):\n",
    "        # 0 - down\n",
    "        # 1 - up\n",
    "        # 2 - right\n",
    "        # 3 - left\n",
    "        if (observation[0] < 1.):\n",
    "            return 0\n",
    "        if (observation[1] < 1.):\n",
    "            return 2\n",
    "        return 0\n",
    "        \n",
    "    def step(self, observation, verbose=False):\n",
    "        if verbose:\n",
    "            print(observation)\n",
    "        return self.policy(observation)"
   ]
  },
  {
   "cell_type": "code",
   "execution_count": 7,
   "metadata": {
    "colab": {
     "base_uri": "https://localhost:8080/",
     "height": 1000
    },
    "colab_type": "code",
    "id": "kZGSRSzo07v-",
    "outputId": "6e70e241-8fb0-40f8-8073-5d874d9772b5"
   },
   "outputs": [
    {
     "data": {
      "image/png": "[encoded data removed]",
      "text/plain": [
       "<Figure size 432x288 with 1 Axes>"
      ]
     },
     "metadata": {
      "needs_background": "light"
     },
     "output_type": "display_data"
    },
    {
     "name": "stdout",
     "output_type": "stream",
     "text": [
      "[0. 0.]\n"
     ]
    },
    {
     "data": {
      "image/png": "[encoded data removed]",
      "text/plain": [
       "<Figure size 432x288 with 1 Axes>"
      ]
     },
     "metadata": {
      "needs_background": "light"
     },
     "output_type": "display_data"
    },
    {
     "name": "stdout",
     "output_type": "stream",
     "text": [
      "[0.25 0.  ]\n"
     ]
    },
    {
     "data": {
      "image/png": "[encoded data removed]",
      "text/plain": [
       "<Figure size 432x288 with 1 Axes>"
      ]
     },
     "metadata": {
      "needs_background": "light"
     },
     "output_type": "display_data"
    },
    {
     "name": "stdout",
     "output_type": "stream",
     "text": [
      "[0.5 0. ]\n"
     ]
    },
    {
     "data": {
      "image/png": "[encoded data removed]",
      "text/plain": [
       "<Figure size 432x288 with 1 Axes>"
      ]
     },
     "metadata": {
      "needs_background": "light"
     },
     "output_type": "display_data"
    },
    {
     "name": "stdout",
     "output_type": "stream",
     "text": [
      "[0.75 0.  ]\n"
     ]
    },
    {
     "data": {
      "image/png": "[encoded data removed]",
      "text/plain": [
       "<Figure size 432x288 with 1 Axes>"
      ]
     },
     "metadata": {
      "needs_background": "light"
     },
     "output_type": "display_data"
    },
    {
     "name": "stdout",
     "output_type": "stream",
     "text": [
      "[1. 0.]\n"
     ]
    },
    {
     "data": {
      "image/png": "[encoded data removed]",
      "text/plain": [
       "<Figure size 432x288 with 1 Axes>"
      ]
     },
     "metadata": {
      "needs_background": "light"
     },
     "output_type": "display_data"
    },
    {
     "name": "stdout",
     "output_type": "stream",
     "text": [
      "[1.   0.25]\n"
     ]
    },
    {
     "data": {
      "image/png": "[encoded data removed]",
      "text/plain": [
       "<Figure size 432x288 with 1 Axes>"
      ]
     },
     "metadata": {
      "needs_background": "light"
     },
     "output_type": "display_data"
    },
    {
     "name": "stdout",
     "output_type": "stream",
     "text": [
      "[1.  0.5]\n"
     ]
    },
    {
     "data": {
      "image/png": "[encoded data removed]",
      "text/plain": [
       "<Figure size 432x288 with 1 Axes>"
      ]
     },
     "metadata": {
      "needs_background": "light"
     },
     "output_type": "display_data"
    },
    {
     "name": "stdout",
     "output_type": "stream",
     "text": [
      "[1.   0.75]\n"
     ]
    },
    {
     "data": {
      "image/png": "[encoded data removed]",
      "text/plain": [
       "<Figure size 432x288 with 1 Axes>"
      ]
     },
     "metadata": {
      "needs_background": "light"
     },
     "output_type": "display_data"
    }
   ],
   "source": [
    "env = GridEnvironment(normalize=True)\n",
    "agent = HeuristicAgent(env)\n",
    "\n",
    "obs = env.reset()\n",
    "done = False\n",
    "agent.epsilon = 0\n",
    "env.render()\n",
    "plt.show()\n",
    "\n",
    "while not done:\n",
    "    action = agent.step(obs, verbose=True)\n",
    "    obs, reward, done, info = env.step(action)\n",
    "    env.render()\n",
    "    plt.show()"
   ]
  },
  {
   "cell_type": "markdown",
   "metadata": {
    "colab_type": "text",
    "id": "oSjsMD6Ze8ld"
   },
   "source": [
    "## Tabular Q-Learning\n",
    "This is where you need to define policy and update Q tables.\n",
    "For policy.\n",
    "\n",
    "*  \n",
    "[np.argmax](https://docs.scipy.org/doc/numpy/reference/generated/numpy.argmax.html) - Returns the indices of the maximum values along an axis.\n",
    "\n",
    "### Epsilon\n",
    "\n",
    "Our agent will randomly select its action at first by a certain percentage, called ‘exploration rate’ or ‘epsilon’. This is because at first, it is better for the agent to try all kinds of things before it starts to see the patterns. When it is not deciding the action randomly, the agent will predict the reward value based on the current state and pick the action that will give the highest reward. We want our agent to decrease the number of random action, as it goes, so we indroduce an exponential-decay epsilon, that eventually will allow our agent to explore the evironment. \\\\\n",
    "\n",
    "\n",
    "\n",
    "###  <font color='red'>Task 1: Implement policy function.</font>  <br>\n",
    "**Instructions:**\n",
    "- Our agent will randomly select its action at first by a certain percentage, called ‘exploration rate’ or ‘epsilon’. This is because at first, it is better for the agent to try all kinds of things before it starts to see the patterns. Select a random uniform number. If it's less than epsilon, return the random choice action space.\n",
    "- When it is not deciding the action randomly, the agent will predict the reward value based on the current state and pick the action that will give the highest reward. \n",
    "\\begin{align} \\notag\n",
    "\\pi\\left(s_{t}\\right)=\\underset{a \\in A}{\\operatorname{argmax}} Q_{\\theta}\\left(s_{t}, a\\right)\n",
    "\\end{align} \n",
    "- Return the policy\n",
    "- Please note, that the name for all the variables should start with <mark>self</mark>, thus </br> \n",
    "\n",
    "epsilon $\\rightarrow$ self.epsilon </br> \n",
    "action_space $\\rightarrow$ self.action_space\n",
    "\n",
    "###  <font color='red'>Task 2: Update Q-table</font>  <br>\n",
    "**Instructions:**\n",
    "            \\begin{align} \\notag\n",
    "            Q^{n e w}\\left(s_{t}, a_{t}\\right) \\leftarrow(1-\\alpha) \\cdot \\underbrace{Q\\left(s_{t}, a_{t}\\right)}_{\\text {old value }}+\\underbrace{\\alpha}_{\\text {learning rate }} \\cdot \\overbrace{(\\underbrace{r_{t}}_{\\text {reward }} + \\underbrace{\\gamma}_{\\text {discount factor }} \\underbrace{\\max _{a} Q\\left(s_{t+1}, a\\right)}_{a})}^{\\text {learned value }}\n",
    "            \\end{align} "
   ]
  },
  {
   "cell_type": "code",
   "execution_count": 8,
   "metadata": {
    "colab": {
     "base_uri": "https://localhost:8080/",
     "height": 130
    },
    "colab_type": "code",
    "id": "l88irSuqe8lf",
    "outputId": "8bafa216-450b-4c4f-e5ff-e0b40aaf4412"
   },
   "outputs": [],
   "source": [
    "class QLearningAgent:\n",
    "    def __init__(self, env, epsilon=1.0, lr=0.1, gamma=0.9):\n",
    "        self.env = env\n",
    "        self.observation_space = env.observation_space\n",
    "        self.action_space = env.action_space\n",
    "        q_table_dim = env.observation_space.shape[0] + 1\n",
    "        self.q_table = np.zeros((q_table_dim, q_table_dim, env.action_space.n))\n",
    "        self.epsilon = epsilon\n",
    "        self.lr = lr\n",
    "        self.gamma = gamma\n",
    "\n",
    "    def policy(self, observation):\n",
    "      # Code for policy (Task 1) (30 points)\n",
    "    \n",
    "        random=np.random.uniform(0,1)        \n",
    "        if random > self.epsilon:\n",
    "            action=(np.argmax(self.q_table[tuple(observation.astype(int))]))\n",
    "        else:\n",
    "            action=(np.random.choice(self.action_space.n))\n",
    "            \n",
    "        return action\n",
    "        \n",
    "        \n",
    "        \n",
    "    def step(self, observation):\n",
    "      return self.policy(observation)\n",
    "        \n",
    "    def update(self, state, action, reward, next_state):\n",
    "        state = state.astype(int)\n",
    "        next_state = next_state.astype(int)\n",
    "        \n",
    "        # Code for updating Q Table (Task 2) (20 points)\n",
    "        \n",
    "        old_value=self.q_table[tuple(state)][action]\n",
    "        learned_value=reward+(self.gamma*(np.max(self.q_table[tuple(next_state)])))\n",
    "        \n",
    "        new_value=((1-self.lr)*old_value)+(self.lr*learned_value)\n",
    "        \n",
    "        self.q_table[tuple(state)][action]=new_value\n",
    "        \n",
    "        \n",
    "        \n",
    "    def set_epsilon(self, epsilon):\n",
    "        self.epsilon = epsilon"
   ]
  },
  {
   "cell_type": "markdown",
   "metadata": {
    "colab_type": "text",
    "id": "UNKDdzD3e8lj"
   },
   "source": [
    "### Training\n",
    "### Environment\n",
    "First, we initialize our environment.  The environment, loosely structured like [OpenAI's Gym Environments](https://gym.openai.com/), has three main methods: `reset`, `step` and `render`. You'll only need `reset` and `step` here.\n",
    "\n",
    "- When we call **reset**, we initialize the environment with a fresh episode. This allows us to effectively run through episodes (only needing to call reset at the beginning of an episode), but, more importantly, `reset()` returns the environment's initial state.\n",
    "\n",
    "- The **step** method accepts an action as a parameter (which, for this example, is an integer in [0, 3]), processes the action, and returns the new state, the reward for performing the action, and a boolean indicating if the run is over.\n",
    "\n",
    "### Agent\n",
    "When we initialize the agent, we must pass both a `environment` into QLearningAgent function.\n",
    "###  <font color='red'>Task 3: Implement the training algorithm</font>  <br>\n",
    "**Instructions:**\n",
    "- After initialization, pass the initial state to obs. Then check if it's already done. If done = False, you'll keep going. While it's not done, you'll need to update `state`, `action`,`reward` and `next_state`. You can get action by `step` the current state on agent. Use `copy` to record the current state. `step` the current action on environment to return the new state, the reward for performing the action, a boolean indicating if the run is over and some other information. Add the new reward on the total rewards. Use `copy` to save the new state returned by `step`. Update the `state`, `action`, `reward`, `next_state` of agent."
   ]
  },
  {
   "cell_type": "code",
   "execution_count": 9,
   "metadata": {
    "colab": {
     "base_uri": "https://localhost:8080/",
     "height": 232
    },
    "colab_type": "code",
    "id": "2SDbl2Kue8lk",
    "outputId": "28e93832-0aa8-4cb8-8f7b-0c689ed82c91"
   },
   "outputs": [
    {
     "name": "stdout",
     "output_type": "stream",
     "text": [
      "Episode is  2  Rewards is  3\n",
      "Episode is  3  Rewards is  1\n",
      "Episode is  4  Rewards is  3\n",
      "Episode is  5  Rewards is  -7\n",
      "Episode is  6  Rewards is  5\n",
      "Episode is  7  Rewards is  3\n",
      "Episode is  8  Rewards is  1\n",
      "Episode is  9  Rewards is  5\n",
      "Episode is  10  Rewards is  -1\n",
      "Episode is  11  Rewards is  -3\n",
      "Episode is  12  Rewards is  -5\n",
      "Episode is  13  Rewards is  5\n",
      "Episode is  14  Rewards is  1\n",
      "Episode is  15  Rewards is  -1\n",
      "Episode is  16  Rewards is  5\n",
      "Episode is  17  Rewards is  5\n",
      "Episode is  18  Rewards is  3\n",
      "Episode is  19  Rewards is  3\n",
      "Episode is  20  Rewards is  -5\n",
      "Episode is  21  Rewards is  -5\n",
      "Episode is  22  Rewards is  1\n",
      "Episode is  23  Rewards is  3\n",
      "Episode is  24  Rewards is  3\n",
      "Episode is  25  Rewards is  1\n",
      "Episode is  26  Rewards is  3\n",
      "Episode is  27  Rewards is  3\n",
      "Episode is  28  Rewards is  3\n",
      "Episode is  29  Rewards is  -1\n",
      "Episode is  30  Rewards is  1\n",
      "Episode is  31  Rewards is  1\n",
      "Episode is  32  Rewards is  1\n",
      "Episode is  33  Rewards is  3\n",
      "Episode is  34  Rewards is  1\n",
      "Episode is  35  Rewards is  3\n",
      "Episode is  36  Rewards is  -1\n",
      "Episode is  37  Rewards is  5\n",
      "Episode is  38  Rewards is  3\n",
      "Episode is  39  Rewards is  3\n",
      "Episode is  40  Rewards is  -3\n",
      "Episode is  41  Rewards is  7\n",
      "Episode is  42  Rewards is  1\n",
      "Episode is  43  Rewards is  5\n",
      "Episode is  44  Rewards is  5\n",
      "Episode is  45  Rewards is  5\n",
      "Episode is  46  Rewards is  5\n",
      "Episode is  47  Rewards is  -1\n",
      "Episode is  48  Rewards is  3\n",
      "Episode is  49  Rewards is  3\n",
      "Episode is  50  Rewards is  5\n",
      "Episode is  51  Rewards is  1\n",
      "Episode is  52  Rewards is  5\n",
      "Episode is  53  Rewards is  3\n",
      "Episode is  54  Rewards is  5\n",
      "Episode is  55  Rewards is  5\n",
      "Episode is  56  Rewards is  3\n",
      "Episode is  57  Rewards is  5\n",
      "Episode is  58  Rewards is  5\n",
      "Episode is  59  Rewards is  8\n",
      "Episode is  60  Rewards is  1\n",
      "Episode is  61  Rewards is  3\n",
      "Episode is  62  Rewards is  3\n",
      "Episode is  63  Rewards is  8\n",
      "Episode is  64  Rewards is  3\n",
      "Episode is  65  Rewards is  3\n",
      "Episode is  66  Rewards is  5\n",
      "Episode is  67  Rewards is  5\n",
      "Episode is  68  Rewards is  5\n",
      "Episode is  69  Rewards is  7\n",
      "Episode is  70  Rewards is  7\n",
      "Episode is  71  Rewards is  3\n",
      "Episode is  72  Rewards is  3\n",
      "Episode is  73  Rewards is  5\n",
      "Episode is  74  Rewards is  5\n",
      "Episode is  75  Rewards is  7\n",
      "Episode is  76  Rewards is  5\n",
      "Episode is  77  Rewards is  7\n",
      "Episode is  78  Rewards is  7\n",
      "Episode is  79  Rewards is  5\n",
      "Episode is  80  Rewards is  7\n",
      "Episode is  81  Rewards is  5\n",
      "Episode is  82  Rewards is  1\n",
      "Episode is  83  Rewards is  5\n",
      "Episode is  84  Rewards is  3\n",
      "Episode is  85  Rewards is  7\n",
      "Episode is  86  Rewards is  7\n",
      "Episode is  87  Rewards is  5\n",
      "Episode is  88  Rewards is  3\n",
      "Episode is  89  Rewards is  -1\n",
      "Episode is  90  Rewards is  3\n",
      "Episode is  91  Rewards is  7\n",
      "Episode is  92  Rewards is  5\n",
      "Episode is  93  Rewards is  7\n",
      "Episode is  94  Rewards is  5\n",
      "Episode is  95  Rewards is  7\n",
      "Episode is  96  Rewards is  5\n",
      "Episode is  97  Rewards is  7\n",
      "Episode is  98  Rewards is  3\n",
      "Episode is  99  Rewards is  3\n",
      "Episode is  100  Rewards is  1\n",
      "Episode is  101  Rewards is  7\n",
      "Episode is  102  Rewards is  5\n",
      "Episode is  103  Rewards is  7\n",
      "Episode is  104  Rewards is  5\n",
      "Episode is  105  Rewards is  1\n",
      "Episode is  106  Rewards is  8\n",
      "Episode is  107  Rewards is  5\n",
      "Episode is  108  Rewards is  5\n",
      "Episode is  109  Rewards is  5\n",
      "Episode is  110  Rewards is  3\n",
      "Episode is  111  Rewards is  5\n",
      "Episode is  112  Rewards is  7\n",
      "Episode is  113  Rewards is  8\n",
      "Episode is  114  Rewards is  5\n",
      "Episode is  115  Rewards is  5\n",
      "Episode is  116  Rewards is  8\n",
      "Episode is  117  Rewards is  8\n",
      "Episode is  118  Rewards is  7\n",
      "Episode is  119  Rewards is  5\n",
      "Episode is  120  Rewards is  7\n",
      "Episode is  121  Rewards is  7\n",
      "Episode is  122  Rewards is  7\n",
      "Episode is  123  Rewards is  5\n",
      "Episode is  124  Rewards is  3\n",
      "Episode is  125  Rewards is  5\n",
      "Episode is  126  Rewards is  7\n",
      "Episode is  127  Rewards is  5\n",
      "Episode is  128  Rewards is  5\n",
      "Episode is  129  Rewards is  8\n",
      "Episode is  130  Rewards is  1\n",
      "Episode is  131  Rewards is  8\n",
      "Episode is  132  Rewards is  7\n",
      "Episode is  133  Rewards is  8\n",
      "Episode is  134  Rewards is  8\n",
      "Episode is  135  Rewards is  3\n",
      "Episode is  136  Rewards is  3\n",
      "Episode is  137  Rewards is  8\n",
      "Episode is  138  Rewards is  7\n",
      "Episode is  139  Rewards is  7\n",
      "Episode is  140  Rewards is  7\n",
      "Episode is  141  Rewards is  8\n",
      "Episode is  142  Rewards is  7\n",
      "Episode is  143  Rewards is  8\n",
      "Episode is  144  Rewards is  5\n",
      "Episode is  145  Rewards is  5\n",
      "Episode is  146  Rewards is  7\n",
      "Episode is  147  Rewards is  5\n",
      "Episode is  148  Rewards is  5\n",
      "Episode is  149  Rewards is  3\n",
      "Episode is  150  Rewards is  5\n",
      "Episode is  151  Rewards is  7\n",
      "Episode is  152  Rewards is  3\n",
      "Episode is  153  Rewards is  8\n",
      "Episode is  154  Rewards is  7\n",
      "Episode is  155  Rewards is  8\n",
      "Episode is  156  Rewards is  8\n",
      "Episode is  157  Rewards is  7\n",
      "Episode is  158  Rewards is  8\n",
      "Episode is  159  Rewards is  8\n",
      "Episode is  160  Rewards is  8\n",
      "Episode is  161  Rewards is  7\n",
      "Episode is  162  Rewards is  8\n",
      "Episode is  163  Rewards is  8\n",
      "Episode is  164  Rewards is  8\n",
      "Episode is  165  Rewards is  7\n",
      "Episode is  166  Rewards is  7\n",
      "Episode is  167  Rewards is  8\n",
      "Episode is  168  Rewards is  8\n",
      "Episode is  169  Rewards is  5\n",
      "Episode is  170  Rewards is  8\n",
      "Episode is  171  Rewards is  7\n",
      "Episode is  172  Rewards is  7\n",
      "Episode is  173  Rewards is  7\n",
      "Episode is  174  Rewards is  5\n",
      "Episode is  175  Rewards is  7\n",
      "Episode is  176  Rewards is  5\n",
      "Episode is  177  Rewards is  5\n",
      "Episode is  178  Rewards is  7\n",
      "Episode is  179  Rewards is  8\n",
      "Episode is  180  Rewards is  8\n",
      "Episode is  181  Rewards is  7\n",
      "Episode is  182  Rewards is  8\n",
      "Episode is  183  Rewards is  7\n",
      "Episode is  184  Rewards is  3\n",
      "Episode is  185  Rewards is  8\n",
      "Episode is  186  Rewards is  8\n",
      "Episode is  187  Rewards is  7\n",
      "Episode is  188  Rewards is  7\n",
      "Episode is  189  Rewards is  7\n",
      "Episode is  190  Rewards is  8\n",
      "Episode is  191  Rewards is  8\n",
      "Episode is  192  Rewards is  8\n",
      "Episode is  193  Rewards is  7\n",
      "Episode is  194  Rewards is  8\n",
      "Episode is  195  Rewards is  8\n",
      "Episode is  196  Rewards is  8\n",
      "Episode is  197  Rewards is  8\n",
      "Episode is  198  Rewards is  5\n",
      "Episode is  199  Rewards is  8\n",
      "Episode is  200  Rewards is  8\n",
      "Episode is  201  Rewards is  5\n",
      "Episode is  202  Rewards is  7\n",
      "Episode is  203  Rewards is  8\n",
      "Episode is  204  Rewards is  7\n",
      "Episode is  205  Rewards is  8\n",
      "Episode is  206  Rewards is  8\n",
      "Episode is  207  Rewards is  8\n",
      "Episode is  208  Rewards is  8\n",
      "Episode is  209  Rewards is  5\n",
      "Episode is  210  Rewards is  8\n",
      "Episode is  211  Rewards is  8\n",
      "Episode is  212  Rewards is  8\n",
      "Episode is  213  Rewards is  7\n",
      "Episode is  214  Rewards is  8\n",
      "Episode is  215  Rewards is  8\n",
      "Episode is  216  Rewards is  8\n",
      "Episode is  217  Rewards is  8\n",
      "Episode is  218  Rewards is  8\n",
      "Episode is  219  Rewards is  8\n",
      "Episode is  220  Rewards is  8\n",
      "Episode is  221  Rewards is  7\n",
      "Episode is  222  Rewards is  8\n",
      "Episode is  223  Rewards is  7\n",
      "Episode is  224  Rewards is  8\n",
      "Episode is  225  Rewards is  5\n",
      "Episode is  226  Rewards is  5\n",
      "Episode is  227  Rewards is  7\n",
      "Episode is  228  Rewards is  7\n",
      "Episode is  229  Rewards is  8\n",
      "Episode is  230  Rewards is  8\n",
      "Episode is  231  Rewards is  8\n",
      "Episode is  232  Rewards is  8\n",
      "Episode is  233  Rewards is  8\n",
      "Episode is  234  Rewards is  8\n",
      "Episode is  235  Rewards is  8\n",
      "Episode is  236  Rewards is  5\n",
      "Episode is  237  Rewards is  8\n",
      "Episode is  238  Rewards is  8\n",
      "Episode is  239  Rewards is  7\n",
      "Episode is  240  Rewards is  5\n",
      "Episode is  241  Rewards is  5\n",
      "Episode is  242  Rewards is  8\n",
      "Episode is  243  Rewards is  7\n",
      "Episode is  244  Rewards is  8\n",
      "Episode is  245  Rewards is  8\n",
      "Episode is  246  Rewards is  8\n",
      "Episode is  247  Rewards is  7\n",
      "Episode is  248  Rewards is  7\n",
      "Episode is  249  Rewards is  8\n",
      "Episode is  250  Rewards is  7\n",
      "Episode is  251  Rewards is  8\n",
      "Episode is  252  Rewards is  8\n",
      "Episode is  253  Rewards is  8\n",
      "Episode is  254  Rewards is  8\n",
      "Episode is  255  Rewards is  8\n",
      "Episode is  256  Rewards is  7\n",
      "Episode is  257  Rewards is  8\n",
      "Episode is  258  Rewards is  5\n",
      "Episode is  259  Rewards is  8\n",
      "Episode is  260  Rewards is  7\n",
      "Episode is  261  Rewards is  8\n",
      "Episode is  262  Rewards is  7\n",
      "Episode is  263  Rewards is  8\n",
      "Episode is  264  Rewards is  8\n",
      "Episode is  265  Rewards is  8\n",
      "Episode is  266  Rewards is  8\n",
      "Episode is  267  Rewards is  8\n",
      "Episode is  268  Rewards is  8\n",
      "Episode is  269  Rewards is  8\n",
      "Episode is  270  Rewards is  5\n",
      "Episode is  271  Rewards is  7\n",
      "Episode is  272  Rewards is  8\n",
      "Episode is  273  Rewards is  8\n",
      "Episode is  274  Rewards is  8\n",
      "Episode is  275  Rewards is  8\n",
      "Episode is  276  Rewards is  7\n",
      "Episode is  277  Rewards is  8\n",
      "Episode is  278  Rewards is  7\n",
      "Episode is  279  Rewards is  8\n",
      "Episode is  280  Rewards is  5\n",
      "Episode is  281  Rewards is  7\n",
      "Episode is  282  Rewards is  8\n",
      "Episode is  283  Rewards is  8\n",
      "Episode is  284  Rewards is  8\n",
      "Episode is  285  Rewards is  7\n",
      "Episode is  286  Rewards is  5\n",
      "Episode is  287  Rewards is  8\n",
      "Episode is  288  Rewards is  8\n",
      "Episode is  289  Rewards is  8\n",
      "Episode is  290  Rewards is  7\n",
      "Episode is  291  Rewards is  8\n",
      "Episode is  292  Rewards is  8\n",
      "Episode is  293  Rewards is  8\n",
      "Episode is  294  Rewards is  8\n",
      "Episode is  295  Rewards is  8\n",
      "Episode is  296  Rewards is  5\n"
     ]
    },
    {
     "name": "stdout",
     "output_type": "stream",
     "text": [
      "Episode is  297  Rewards is  7\n",
      "Episode is  298  Rewards is  8\n",
      "Episode is  299  Rewards is  8\n",
      "Episode is  300  Rewards is  8\n",
      "Episode is  301  Rewards is  5\n",
      "Episode is  302  Rewards is  7\n",
      "Episode is  303  Rewards is  8\n",
      "Episode is  304  Rewards is  5\n",
      "Episode is  305  Rewards is  8\n",
      "Episode is  306  Rewards is  8\n",
      "Episode is  307  Rewards is  8\n",
      "Episode is  308  Rewards is  7\n",
      "Episode is  309  Rewards is  7\n",
      "Episode is  310  Rewards is  8\n",
      "Episode is  311  Rewards is  8\n",
      "Episode is  312  Rewards is  8\n",
      "Episode is  313  Rewards is  8\n",
      "Episode is  314  Rewards is  8\n",
      "Episode is  315  Rewards is  8\n",
      "Episode is  316  Rewards is  8\n",
      "Episode is  317  Rewards is  8\n",
      "Episode is  318  Rewards is  8\n",
      "Episode is  319  Rewards is  8\n",
      "Episode is  320  Rewards is  7\n",
      "Episode is  321  Rewards is  7\n",
      "Episode is  322  Rewards is  8\n",
      "Episode is  323  Rewards is  7\n",
      "Episode is  324  Rewards is  8\n",
      "Episode is  325  Rewards is  3\n",
      "Episode is  326  Rewards is  8\n",
      "Episode is  327  Rewards is  8\n",
      "Episode is  328  Rewards is  5\n",
      "Episode is  329  Rewards is  7\n",
      "Episode is  330  Rewards is  7\n",
      "Episode is  331  Rewards is  8\n",
      "Episode is  332  Rewards is  8\n",
      "Episode is  333  Rewards is  7\n",
      "Episode is  334  Rewards is  5\n",
      "Episode is  335  Rewards is  7\n",
      "Episode is  336  Rewards is  5\n",
      "Episode is  337  Rewards is  8\n",
      "Episode is  338  Rewards is  8\n",
      "Episode is  339  Rewards is  8\n",
      "Episode is  340  Rewards is  5\n",
      "Episode is  341  Rewards is  7\n",
      "Episode is  342  Rewards is  8\n",
      "Episode is  343  Rewards is  8\n",
      "Episode is  344  Rewards is  7\n",
      "Episode is  345  Rewards is  7\n",
      "Episode is  346  Rewards is  8\n",
      "Episode is  347  Rewards is  8\n",
      "Episode is  348  Rewards is  7\n",
      "Episode is  349  Rewards is  8\n",
      "Episode is  350  Rewards is  8\n",
      "Episode is  351  Rewards is  8\n",
      "Episode is  352  Rewards is  8\n",
      "Episode is  353  Rewards is  8\n",
      "Episode is  354  Rewards is  8\n",
      "Episode is  355  Rewards is  7\n",
      "Episode is  356  Rewards is  8\n",
      "Episode is  357  Rewards is  7\n",
      "Episode is  358  Rewards is  5\n",
      "Episode is  359  Rewards is  8\n",
      "Episode is  360  Rewards is  8\n",
      "Episode is  361  Rewards is  7\n",
      "Episode is  362  Rewards is  5\n",
      "Episode is  363  Rewards is  8\n",
      "Episode is  364  Rewards is  7\n",
      "Episode is  365  Rewards is  8\n",
      "Episode is  366  Rewards is  7\n",
      "Episode is  367  Rewards is  7\n",
      "Episode is  368  Rewards is  8\n",
      "Episode is  369  Rewards is  8\n",
      "Episode is  370  Rewards is  8\n",
      "Episode is  371  Rewards is  8\n",
      "Episode is  372  Rewards is  8\n",
      "Episode is  373  Rewards is  5\n",
      "Episode is  374  Rewards is  7\n",
      "Episode is  375  Rewards is  8\n",
      "Episode is  376  Rewards is  8\n",
      "Episode is  377  Rewards is  8\n",
      "Episode is  378  Rewards is  8\n",
      "Episode is  379  Rewards is  8\n",
      "Episode is  380  Rewards is  8\n",
      "Episode is  381  Rewards is  8\n",
      "Episode is  382  Rewards is  7\n",
      "Episode is  383  Rewards is  8\n",
      "Episode is  384  Rewards is  8\n",
      "Episode is  385  Rewards is  8\n",
      "Episode is  386  Rewards is  8\n",
      "Episode is  387  Rewards is  8\n",
      "Episode is  388  Rewards is  8\n",
      "Episode is  389  Rewards is  8\n",
      "Episode is  390  Rewards is  7\n",
      "Episode is  391  Rewards is  7\n",
      "Episode is  392  Rewards is  7\n",
      "Episode is  393  Rewards is  8\n",
      "Episode is  394  Rewards is  7\n",
      "Episode is  395  Rewards is  8\n",
      "Episode is  396  Rewards is  7\n",
      "Episode is  397  Rewards is  7\n",
      "Episode is  398  Rewards is  8\n",
      "Episode is  399  Rewards is  7\n",
      "Episode is  400  Rewards is  8\n",
      "Episode is  401  Rewards is  8\n",
      "Episode is  402  Rewards is  8\n",
      "Episode is  403  Rewards is  7\n",
      "Episode is  404  Rewards is  8\n",
      "Episode is  405  Rewards is  8\n",
      "Episode is  406  Rewards is  7\n",
      "Episode is  407  Rewards is  8\n",
      "Episode is  408  Rewards is  8\n",
      "Episode is  409  Rewards is  8\n",
      "Episode is  410  Rewards is  7\n",
      "Episode is  411  Rewards is  8\n",
      "Episode is  412  Rewards is  7\n",
      "Episode is  413  Rewards is  8\n",
      "Episode is  414  Rewards is  8\n",
      "Episode is  415  Rewards is  5\n",
      "Episode is  416  Rewards is  8\n",
      "Episode is  417  Rewards is  7\n",
      "Episode is  418  Rewards is  8\n",
      "Episode is  419  Rewards is  8\n",
      "Episode is  420  Rewards is  3\n",
      "Episode is  421  Rewards is  8\n",
      "Episode is  422  Rewards is  5\n",
      "Episode is  423  Rewards is  8\n",
      "Episode is  424  Rewards is  8\n",
      "Episode is  425  Rewards is  8\n",
      "Episode is  426  Rewards is  8\n",
      "Episode is  427  Rewards is  7\n",
      "Episode is  428  Rewards is  7\n",
      "Episode is  429  Rewards is  8\n",
      "Episode is  430  Rewards is  7\n",
      "Episode is  431  Rewards is  8\n",
      "Episode is  432  Rewards is  5\n",
      "Episode is  433  Rewards is  8\n",
      "Episode is  434  Rewards is  7\n",
      "Episode is  435  Rewards is  8\n",
      "Episode is  436  Rewards is  7\n",
      "Episode is  437  Rewards is  8\n",
      "Episode is  438  Rewards is  7\n",
      "Episode is  439  Rewards is  5\n",
      "Episode is  440  Rewards is  8\n",
      "Episode is  441  Rewards is  8\n",
      "Episode is  442  Rewards is  7\n",
      "Episode is  443  Rewards is  8\n",
      "Episode is  444  Rewards is  7\n",
      "Episode is  445  Rewards is  3\n",
      "Episode is  446  Rewards is  7\n",
      "Episode is  447  Rewards is  7\n",
      "Episode is  448  Rewards is  5\n",
      "Episode is  449  Rewards is  7\n",
      "Episode is  450  Rewards is  8\n",
      "Episode is  451  Rewards is  5\n",
      "Episode is  452  Rewards is  8\n",
      "Episode is  453  Rewards is  7\n",
      "Episode is  454  Rewards is  8\n",
      "Episode is  455  Rewards is  7\n",
      "Episode is  456  Rewards is  7\n",
      "Episode is  457  Rewards is  8\n",
      "Episode is  458  Rewards is  8\n",
      "Episode is  459  Rewards is  5\n",
      "Episode is  460  Rewards is  8\n",
      "Episode is  461  Rewards is  8\n",
      "Episode is  462  Rewards is  7\n",
      "Episode is  463  Rewards is  8\n",
      "Episode is  464  Rewards is  8\n",
      "Episode is  465  Rewards is  5\n",
      "Episode is  466  Rewards is  7\n",
      "Episode is  467  Rewards is  8\n",
      "Episode is  468  Rewards is  7\n",
      "Episode is  469  Rewards is  8\n",
      "Episode is  470  Rewards is  8\n",
      "Episode is  471  Rewards is  8\n",
      "Episode is  472  Rewards is  8\n",
      "Episode is  473  Rewards is  8\n",
      "Episode is  474  Rewards is  8\n",
      "Episode is  475  Rewards is  8\n",
      "Episode is  476  Rewards is  3\n",
      "Episode is  477  Rewards is  8\n",
      "Episode is  478  Rewards is  8\n",
      "Episode is  479  Rewards is  5\n",
      "Episode is  480  Rewards is  8\n",
      "Episode is  481  Rewards is  8\n",
      "Episode is  482  Rewards is  7\n",
      "Episode is  483  Rewards is  7\n",
      "Episode is  484  Rewards is  7\n",
      "Episode is  485  Rewards is  7\n",
      "Episode is  486  Rewards is  7\n",
      "Episode is  487  Rewards is  8\n",
      "Episode is  488  Rewards is  7\n",
      "Episode is  489  Rewards is  8\n",
      "Episode is  490  Rewards is  8\n",
      "Episode is  491  Rewards is  7\n",
      "Episode is  492  Rewards is  7\n",
      "Episode is  493  Rewards is  8\n",
      "Episode is  494  Rewards is  8\n",
      "Episode is  495  Rewards is  8\n",
      "Episode is  496  Rewards is  8\n",
      "Episode is  497  Rewards is  8\n",
      "Episode is  498  Rewards is  8\n",
      "Episode is  499  Rewards is  5\n",
      "Episode is  500  Rewards is  8\n",
      "Episode is  501  Rewards is  8\n",
      "Episode is  502  Rewards is  8\n",
      "Episode is  503  Rewards is  8\n",
      "Episode is  504  Rewards is  8\n",
      "Episode is  505  Rewards is  8\n",
      "Episode is  506  Rewards is  8\n",
      "Episode is  507  Rewards is  8\n",
      "Episode is  508  Rewards is  5\n",
      "Episode is  509  Rewards is  8\n",
      "Episode is  510  Rewards is  8\n",
      "Episode is  511  Rewards is  8\n",
      "Episode is  512  Rewards is  8\n",
      "Episode is  513  Rewards is  8\n",
      "Episode is  514  Rewards is  7\n",
      "Episode is  515  Rewards is  8\n",
      "Episode is  516  Rewards is  5\n",
      "Episode is  517  Rewards is  7\n",
      "Episode is  518  Rewards is  8\n",
      "Episode is  519  Rewards is  7\n",
      "Episode is  520  Rewards is  7\n",
      "Episode is  521  Rewards is  8\n",
      "Episode is  522  Rewards is  8\n",
      "Episode is  523  Rewards is  7\n",
      "Episode is  524  Rewards is  7\n",
      "Episode is  525  Rewards is  5\n",
      "Episode is  526  Rewards is  8\n",
      "Episode is  527  Rewards is  8\n",
      "Episode is  528  Rewards is  8\n",
      "Episode is  529  Rewards is  8\n",
      "Episode is  530  Rewards is  8\n",
      "Episode is  531  Rewards is  7\n",
      "Episode is  532  Rewards is  8\n",
      "Episode is  533  Rewards is  8\n",
      "Episode is  534  Rewards is  8\n",
      "Episode is  535  Rewards is  8\n",
      "Episode is  536  Rewards is  8\n",
      "Episode is  537  Rewards is  8\n",
      "Episode is  538  Rewards is  8\n",
      "Episode is  539  Rewards is  8\n",
      "Episode is  540  Rewards is  7\n",
      "Episode is  541  Rewards is  8\n",
      "Episode is  542  Rewards is  8\n",
      "Episode is  543  Rewards is  8\n",
      "Episode is  544  Rewards is  8\n",
      "Episode is  545  Rewards is  8\n",
      "Episode is  546  Rewards is  8\n",
      "Episode is  547  Rewards is  8\n",
      "Episode is  548  Rewards is  8\n",
      "Episode is  549  Rewards is  8\n",
      "Episode is  550  Rewards is  7\n",
      "Episode is  551  Rewards is  8\n",
      "Episode is  552  Rewards is  8\n",
      "Episode is  553  Rewards is  5\n",
      "Episode is  554  Rewards is  7\n",
      "Episode is  555  Rewards is  8\n",
      "Episode is  556  Rewards is  7\n",
      "Episode is  557  Rewards is  7\n",
      "Episode is  558  Rewards is  8\n",
      "Episode is  559  Rewards is  7\n",
      "Episode is  560  Rewards is  8\n",
      "Episode is  561  Rewards is  7\n",
      "Episode is  562  Rewards is  7\n",
      "Episode is  563  Rewards is  8\n",
      "Episode is  564  Rewards is  5\n",
      "Episode is  565  Rewards is  8\n",
      "Episode is  566  Rewards is  8\n",
      "Episode is  567  Rewards is  8\n",
      "Episode is  568  Rewards is  8\n",
      "Episode is  569  Rewards is  8\n",
      "Episode is  570  Rewards is  7\n",
      "Episode is  571  Rewards is  8\n",
      "Episode is  572  Rewards is  8\n",
      "Episode is  573  Rewards is  8\n",
      "Episode is  574  Rewards is  8\n",
      "Episode is  575  Rewards is  8\n",
      "Episode is  576  Rewards is  8\n",
      "Episode is  577  Rewards is  7\n",
      "Episode is  578  Rewards is  7\n",
      "Episode is  579  Rewards is  8\n",
      "Episode is  580  Rewards is  7\n",
      "Episode is  581  Rewards is  5\n",
      "Episode is  582  Rewards is  8\n",
      "Episode is  583  Rewards is  8\n",
      "Episode is  584  Rewards is  8\n",
      "Episode is  585  Rewards is  8\n",
      "Episode is  586  Rewards is  7\n",
      "Episode is  587  Rewards is  8\n",
      "Episode is  588  Rewards is  5\n",
      "Episode is  589  Rewards is  8\n",
      "Episode is  590  Rewards is  8\n",
      "Episode is  591  Rewards is  7\n",
      "Episode is  592  Rewards is  8\n",
      "Episode is  593  Rewards is  7\n"
     ]
    },
    {
     "name": "stdout",
     "output_type": "stream",
     "text": [
      "Episode is  594  Rewards is  8\n",
      "Episode is  595  Rewards is  8\n",
      "Episode is  596  Rewards is  7\n",
      "Episode is  597  Rewards is  8\n",
      "Episode is  598  Rewards is  1\n",
      "Episode is  599  Rewards is  8\n",
      "Episode is  600  Rewards is  8\n",
      "Episode is  601  Rewards is  7\n",
      "Episode is  602  Rewards is  8\n",
      "Episode is  603  Rewards is  8\n",
      "Episode is  604  Rewards is  8\n",
      "Episode is  605  Rewards is  5\n",
      "Episode is  606  Rewards is  5\n",
      "Episode is  607  Rewards is  8\n",
      "Episode is  608  Rewards is  7\n",
      "Episode is  609  Rewards is  8\n",
      "Episode is  610  Rewards is  8\n",
      "Episode is  611  Rewards is  7\n",
      "Episode is  612  Rewards is  8\n",
      "Episode is  613  Rewards is  7\n",
      "Episode is  614  Rewards is  8\n",
      "Episode is  615  Rewards is  8\n",
      "Episode is  616  Rewards is  8\n",
      "Episode is  617  Rewards is  8\n",
      "Episode is  618  Rewards is  8\n",
      "Episode is  619  Rewards is  8\n",
      "Episode is  620  Rewards is  8\n",
      "Episode is  621  Rewards is  8\n",
      "Episode is  622  Rewards is  7\n",
      "Episode is  623  Rewards is  8\n",
      "Episode is  624  Rewards is  7\n",
      "Episode is  625  Rewards is  8\n",
      "Episode is  626  Rewards is  5\n",
      "Episode is  627  Rewards is  5\n",
      "Episode is  628  Rewards is  8\n",
      "Episode is  629  Rewards is  8\n",
      "Episode is  630  Rewards is  8\n",
      "Episode is  631  Rewards is  7\n",
      "Episode is  632  Rewards is  8\n",
      "Episode is  633  Rewards is  8\n",
      "Episode is  634  Rewards is  7\n",
      "Episode is  635  Rewards is  7\n",
      "Episode is  636  Rewards is  8\n",
      "Episode is  637  Rewards is  8\n",
      "Episode is  638  Rewards is  8\n",
      "Episode is  639  Rewards is  7\n",
      "Episode is  640  Rewards is  5\n",
      "Episode is  641  Rewards is  8\n",
      "Episode is  642  Rewards is  8\n",
      "Episode is  643  Rewards is  8\n",
      "Episode is  644  Rewards is  8\n",
      "Episode is  645  Rewards is  8\n",
      "Episode is  646  Rewards is  8\n",
      "Episode is  647  Rewards is  8\n",
      "Episode is  648  Rewards is  7\n",
      "Episode is  649  Rewards is  7\n",
      "Episode is  650  Rewards is  7\n",
      "Episode is  651  Rewards is  7\n",
      "Episode is  652  Rewards is  8\n",
      "Episode is  653  Rewards is  8\n",
      "Episode is  654  Rewards is  7\n",
      "Episode is  655  Rewards is  8\n",
      "Episode is  656  Rewards is  8\n",
      "Episode is  657  Rewards is  8\n",
      "Episode is  658  Rewards is  8\n",
      "Episode is  659  Rewards is  8\n",
      "Episode is  660  Rewards is  8\n",
      "Episode is  661  Rewards is  8\n",
      "Episode is  662  Rewards is  8\n",
      "Episode is  663  Rewards is  8\n",
      "Episode is  664  Rewards is  8\n",
      "Episode is  665  Rewards is  8\n",
      "Episode is  666  Rewards is  8\n",
      "Episode is  667  Rewards is  7\n",
      "Episode is  668  Rewards is  8\n",
      "Episode is  669  Rewards is  7\n",
      "Episode is  670  Rewards is  8\n",
      "Episode is  671  Rewards is  7\n",
      "Episode is  672  Rewards is  7\n",
      "Episode is  673  Rewards is  8\n",
      "Episode is  674  Rewards is  7\n",
      "Episode is  675  Rewards is  8\n",
      "Episode is  676  Rewards is  8\n",
      "Episode is  677  Rewards is  8\n",
      "Episode is  678  Rewards is  7\n",
      "Episode is  679  Rewards is  8\n",
      "Episode is  680  Rewards is  7\n",
      "Episode is  681  Rewards is  8\n",
      "Episode is  682  Rewards is  8\n",
      "Episode is  683  Rewards is  7\n",
      "Episode is  684  Rewards is  7\n",
      "Episode is  685  Rewards is  8\n",
      "Episode is  686  Rewards is  7\n",
      "Episode is  687  Rewards is  5\n",
      "Episode is  688  Rewards is  8\n",
      "Episode is  689  Rewards is  8\n",
      "Episode is  690  Rewards is  7\n",
      "Episode is  691  Rewards is  7\n",
      "Episode is  692  Rewards is  8\n",
      "Episode is  693  Rewards is  5\n",
      "Episode is  694  Rewards is  8\n",
      "Episode is  695  Rewards is  7\n",
      "Episode is  696  Rewards is  7\n",
      "Episode is  697  Rewards is  8\n",
      "Episode is  698  Rewards is  8\n",
      "Episode is  699  Rewards is  8\n",
      "Episode is  700  Rewards is  8\n",
      "Episode is  701  Rewards is  8\n",
      "Episode is  702  Rewards is  7\n",
      "Episode is  703  Rewards is  8\n",
      "Episode is  704  Rewards is  8\n",
      "Episode is  705  Rewards is  8\n",
      "Episode is  706  Rewards is  8\n",
      "Episode is  707  Rewards is  7\n",
      "Episode is  708  Rewards is  7\n",
      "Episode is  709  Rewards is  5\n",
      "Episode is  710  Rewards is  8\n",
      "Episode is  711  Rewards is  8\n",
      "Episode is  712  Rewards is  8\n",
      "Episode is  713  Rewards is  8\n",
      "Episode is  714  Rewards is  8\n",
      "Episode is  715  Rewards is  7\n",
      "Episode is  716  Rewards is  7\n",
      "Episode is  717  Rewards is  7\n",
      "Episode is  718  Rewards is  8\n",
      "Episode is  719  Rewards is  7\n",
      "Episode is  720  Rewards is  7\n",
      "Episode is  721  Rewards is  8\n",
      "Episode is  722  Rewards is  7\n",
      "Episode is  723  Rewards is  8\n",
      "Episode is  724  Rewards is  8\n",
      "Episode is  725  Rewards is  8\n",
      "Episode is  726  Rewards is  8\n",
      "Episode is  727  Rewards is  7\n",
      "Episode is  728  Rewards is  8\n",
      "Episode is  729  Rewards is  8\n",
      "Episode is  730  Rewards is  8\n",
      "Episode is  731  Rewards is  8\n",
      "Episode is  732  Rewards is  8\n",
      "Episode is  733  Rewards is  8\n",
      "Episode is  734  Rewards is  8\n",
      "Episode is  735  Rewards is  8\n",
      "Episode is  736  Rewards is  7\n",
      "Episode is  737  Rewards is  8\n",
      "Episode is  738  Rewards is  8\n",
      "Episode is  739  Rewards is  8\n",
      "Episode is  740  Rewards is  8\n",
      "Episode is  741  Rewards is  5\n",
      "Episode is  742  Rewards is  8\n",
      "Episode is  743  Rewards is  7\n",
      "Episode is  744  Rewards is  7\n",
      "Episode is  745  Rewards is  8\n",
      "Episode is  746  Rewards is  8\n",
      "Episode is  747  Rewards is  8\n",
      "Episode is  748  Rewards is  7\n",
      "Episode is  749  Rewards is  8\n",
      "Episode is  750  Rewards is  8\n",
      "Episode is  751  Rewards is  8\n",
      "Episode is  752  Rewards is  8\n",
      "Episode is  753  Rewards is  8\n",
      "Episode is  754  Rewards is  5\n",
      "Episode is  755  Rewards is  8\n",
      "Episode is  756  Rewards is  8\n",
      "Episode is  757  Rewards is  8\n",
      "Episode is  758  Rewards is  5\n",
      "Episode is  759  Rewards is  8\n",
      "Episode is  760  Rewards is  8\n",
      "Episode is  761  Rewards is  8\n",
      "Episode is  762  Rewards is  7\n",
      "Episode is  763  Rewards is  8\n",
      "Episode is  764  Rewards is  8\n",
      "Episode is  765  Rewards is  5\n",
      "Episode is  766  Rewards is  8\n",
      "Episode is  767  Rewards is  8\n",
      "Episode is  768  Rewards is  7\n",
      "Episode is  769  Rewards is  8\n",
      "Episode is  770  Rewards is  7\n",
      "Episode is  771  Rewards is  7\n",
      "Episode is  772  Rewards is  7\n",
      "Episode is  773  Rewards is  8\n",
      "Episode is  774  Rewards is  8\n",
      "Episode is  775  Rewards is  8\n",
      "Episode is  776  Rewards is  8\n",
      "Episode is  777  Rewards is  7\n",
      "Episode is  778  Rewards is  7\n",
      "Episode is  779  Rewards is  7\n",
      "Episode is  780  Rewards is  8\n",
      "Episode is  781  Rewards is  8\n",
      "Episode is  782  Rewards is  7\n",
      "Episode is  783  Rewards is  7\n",
      "Episode is  784  Rewards is  8\n",
      "Episode is  785  Rewards is  7\n",
      "Episode is  786  Rewards is  7\n",
      "Episode is  787  Rewards is  8\n",
      "Episode is  788  Rewards is  8\n",
      "Episode is  789  Rewards is  8\n",
      "Episode is  790  Rewards is  3\n",
      "Episode is  791  Rewards is  8\n",
      "Episode is  792  Rewards is  8\n",
      "Episode is  793  Rewards is  7\n",
      "Episode is  794  Rewards is  8\n",
      "Episode is  795  Rewards is  8\n",
      "Episode is  796  Rewards is  7\n",
      "Episode is  797  Rewards is  5\n",
      "Episode is  798  Rewards is  7\n",
      "Episode is  799  Rewards is  8\n",
      "Episode is  800  Rewards is  7\n",
      "Episode is  801  Rewards is  8\n",
      "Episode is  802  Rewards is  7\n",
      "Episode is  803  Rewards is  8\n",
      "Episode is  804  Rewards is  8\n",
      "Episode is  805  Rewards is  8\n",
      "Episode is  806  Rewards is  8\n",
      "Episode is  807  Rewards is  8\n",
      "Episode is  808  Rewards is  7\n",
      "Episode is  809  Rewards is  8\n",
      "Episode is  810  Rewards is  8\n",
      "Episode is  811  Rewards is  8\n",
      "Episode is  812  Rewards is  7\n",
      "Episode is  813  Rewards is  8\n",
      "Episode is  814  Rewards is  7\n",
      "Episode is  815  Rewards is  7\n",
      "Episode is  816  Rewards is  8\n",
      "Episode is  817  Rewards is  8\n",
      "Episode is  818  Rewards is  8\n",
      "Episode is  819  Rewards is  8\n",
      "Episode is  820  Rewards is  8\n",
      "Episode is  821  Rewards is  7\n",
      "Episode is  822  Rewards is  5\n",
      "Episode is  823  Rewards is  8\n",
      "Episode is  824  Rewards is  8\n",
      "Episode is  825  Rewards is  7\n",
      "Episode is  826  Rewards is  8\n",
      "Episode is  827  Rewards is  5\n",
      "Episode is  828  Rewards is  5\n",
      "Episode is  829  Rewards is  5\n",
      "Episode is  830  Rewards is  8\n",
      "Episode is  831  Rewards is  8\n",
      "Episode is  832  Rewards is  8\n",
      "Episode is  833  Rewards is  8\n",
      "Episode is  834  Rewards is  5\n",
      "Episode is  835  Rewards is  7\n",
      "Episode is  836  Rewards is  7\n",
      "Episode is  837  Rewards is  8\n",
      "Episode is  838  Rewards is  7\n",
      "Episode is  839  Rewards is  8\n",
      "Episode is  840  Rewards is  8\n",
      "Episode is  841  Rewards is  8\n",
      "Episode is  842  Rewards is  8\n",
      "Episode is  843  Rewards is  8\n",
      "Episode is  844  Rewards is  8\n",
      "Episode is  845  Rewards is  7\n",
      "Episode is  846  Rewards is  5\n",
      "Episode is  847  Rewards is  8\n",
      "Episode is  848  Rewards is  8\n",
      "Episode is  849  Rewards is  7\n",
      "Episode is  850  Rewards is  7\n",
      "Episode is  851  Rewards is  8\n",
      "Episode is  852  Rewards is  8\n",
      "Episode is  853  Rewards is  7\n",
      "Episode is  854  Rewards is  8\n",
      "Episode is  855  Rewards is  7\n",
      "Episode is  856  Rewards is  8\n",
      "Episode is  857  Rewards is  5\n",
      "Episode is  858  Rewards is  8\n",
      "Episode is  859  Rewards is  8\n",
      "Episode is  860  Rewards is  8\n",
      "Episode is  861  Rewards is  8\n",
      "Episode is  862  Rewards is  8\n",
      "Episode is  863  Rewards is  8\n",
      "Episode is  864  Rewards is  8\n",
      "Episode is  865  Rewards is  8\n",
      "Episode is  866  Rewards is  7\n",
      "Episode is  867  Rewards is  5\n",
      "Episode is  868  Rewards is  8\n",
      "Episode is  869  Rewards is  8\n",
      "Episode is  870  Rewards is  8\n",
      "Episode is  871  Rewards is  7\n",
      "Episode is  872  Rewards is  8\n",
      "Episode is  873  Rewards is  7\n",
      "Episode is  874  Rewards is  8\n",
      "Episode is  875  Rewards is  8\n",
      "Episode is  876  Rewards is  8\n",
      "Episode is  877  Rewards is  7\n",
      "Episode is  878  Rewards is  7\n",
      "Episode is  879  Rewards is  8\n",
      "Episode is  880  Rewards is  7\n"
     ]
    },
    {
     "name": "stdout",
     "output_type": "stream",
     "text": [
      "Episode is  881  Rewards is  8\n",
      "Episode is  882  Rewards is  7\n",
      "Episode is  883  Rewards is  7\n",
      "Episode is  884  Rewards is  8\n",
      "Episode is  885  Rewards is  8\n",
      "Episode is  886  Rewards is  8\n",
      "Episode is  887  Rewards is  8\n",
      "Episode is  888  Rewards is  8\n",
      "Episode is  889  Rewards is  8\n",
      "Episode is  890  Rewards is  8\n",
      "Episode is  891  Rewards is  8\n",
      "Episode is  892  Rewards is  7\n",
      "Episode is  893  Rewards is  5\n",
      "Episode is  894  Rewards is  8\n",
      "Episode is  895  Rewards is  8\n",
      "Episode is  896  Rewards is  8\n",
      "Episode is  897  Rewards is  8\n",
      "Episode is  898  Rewards is  8\n",
      "Episode is  899  Rewards is  7\n",
      "Episode is  900  Rewards is  7\n",
      "Episode is  901  Rewards is  8\n",
      "Episode is  902  Rewards is  8\n",
      "Episode is  903  Rewards is  8\n",
      "Episode is  904  Rewards is  8\n",
      "Episode is  905  Rewards is  8\n",
      "Episode is  906  Rewards is  5\n",
      "Episode is  907  Rewards is  8\n",
      "Episode is  908  Rewards is  8\n",
      "Episode is  909  Rewards is  8\n",
      "Episode is  910  Rewards is  8\n",
      "Episode is  911  Rewards is  8\n",
      "Episode is  912  Rewards is  8\n",
      "Episode is  913  Rewards is  8\n",
      "Episode is  914  Rewards is  7\n",
      "Episode is  915  Rewards is  5\n",
      "Episode is  916  Rewards is  7\n",
      "Episode is  917  Rewards is  7\n",
      "Episode is  918  Rewards is  7\n",
      "Episode is  919  Rewards is  8\n",
      "Episode is  920  Rewards is  8\n",
      "Episode is  921  Rewards is  8\n",
      "Episode is  922  Rewards is  8\n",
      "Episode is  923  Rewards is  8\n",
      "Episode is  924  Rewards is  8\n",
      "Episode is  925  Rewards is  8\n",
      "Episode is  926  Rewards is  7\n",
      "Episode is  927  Rewards is  8\n",
      "Episode is  928  Rewards is  7\n",
      "Episode is  929  Rewards is  8\n",
      "Episode is  930  Rewards is  7\n",
      "Episode is  931  Rewards is  8\n",
      "Episode is  932  Rewards is  5\n",
      "Episode is  933  Rewards is  8\n",
      "Episode is  934  Rewards is  7\n",
      "Episode is  935  Rewards is  8\n",
      "Episode is  936  Rewards is  7\n",
      "Episode is  937  Rewards is  8\n",
      "Episode is  938  Rewards is  7\n",
      "Episode is  939  Rewards is  8\n",
      "Episode is  940  Rewards is  8\n",
      "Episode is  941  Rewards is  5\n",
      "Episode is  942  Rewards is  8\n",
      "Episode is  943  Rewards is  8\n",
      "Episode is  944  Rewards is  5\n",
      "Episode is  945  Rewards is  8\n",
      "Episode is  946  Rewards is  8\n",
      "Episode is  947  Rewards is  7\n",
      "Episode is  948  Rewards is  8\n",
      "Episode is  949  Rewards is  8\n",
      "Episode is  950  Rewards is  8\n",
      "Episode is  951  Rewards is  8\n",
      "Episode is  952  Rewards is  8\n",
      "Episode is  953  Rewards is  8\n",
      "Episode is  954  Rewards is  7\n",
      "Episode is  955  Rewards is  8\n",
      "Episode is  956  Rewards is  7\n",
      "Episode is  957  Rewards is  7\n",
      "Episode is  958  Rewards is  8\n",
      "Episode is  959  Rewards is  7\n",
      "Episode is  960  Rewards is  8\n",
      "Episode is  961  Rewards is  8\n",
      "Episode is  962  Rewards is  7\n",
      "Episode is  963  Rewards is  8\n",
      "Episode is  964  Rewards is  8\n",
      "Episode is  965  Rewards is  7\n",
      "Episode is  966  Rewards is  8\n",
      "Episode is  967  Rewards is  8\n",
      "Episode is  968  Rewards is  8\n",
      "Episode is  969  Rewards is  8\n",
      "Episode is  970  Rewards is  8\n",
      "Episode is  971  Rewards is  8\n",
      "Episode is  972  Rewards is  8\n",
      "Episode is  973  Rewards is  8\n",
      "Episode is  974  Rewards is  8\n",
      "Episode is  975  Rewards is  8\n",
      "Episode is  976  Rewards is  8\n",
      "Episode is  977  Rewards is  8\n",
      "Episode is  978  Rewards is  7\n",
      "Episode is  979  Rewards is  8\n",
      "Episode is  980  Rewards is  7\n",
      "Episode is  981  Rewards is  8\n",
      "Episode is  982  Rewards is  8\n",
      "Episode is  983  Rewards is  8\n",
      "Episode is  984  Rewards is  5\n",
      "Episode is  985  Rewards is  8\n",
      "Episode is  986  Rewards is  8\n",
      "Episode is  987  Rewards is  8\n",
      "Episode is  988  Rewards is  8\n",
      "Episode is  989  Rewards is  8\n",
      "Episode is  990  Rewards is  8\n",
      "Episode is  991  Rewards is  5\n",
      "Episode is  992  Rewards is  8\n",
      "Episode is  993  Rewards is  8\n",
      "Episode is  994  Rewards is  8\n",
      "Episode is  995  Rewards is  8\n",
      "Episode is  996  Rewards is  8\n",
      "Episode is  997  Rewards is  8\n",
      "Episode is  998  Rewards is  7\n",
      "Episode is  999  Rewards is  8\n",
      "Episode is  1000  Rewards is  8\n",
      "Episode is  1001  Rewards is  8\n"
     ]
    }
   ],
   "source": [
    "env = GridEnvironment() # note: we do not normalize\n",
    "agent = QLearningAgent(env)\n",
    "episodes = 1000 # number of games we want the agent to play\n",
    "delta_epsilon = agent.epsilon/episodes\n",
    "\n",
    "total_rewards = []\n",
    "epsilons = [agent.epsilon]\n",
    "\n",
    "# Training Process (Task 3) (20 points)\n",
    "\n",
    "iterations=0\n",
    "while(iterations<episodes):\n",
    "    iterations+=1\n",
    "    state = env.reset()\n",
    "    done=False\n",
    "    rewards_pe=0\n",
    "    \n",
    "    while not done:\n",
    "        obs=state\n",
    "        action=agent.step(obs)\n",
    "        state_copy_version=state.copy()\n",
    "        \n",
    "        new_state, reward, done, info = env.step(action)\n",
    "        rewards_pe+=reward\n",
    "        new_state_copy_version=new_state.copy()\n",
    "        \n",
    "        agent.update(state_copy_version, action, reward, new_state)\n",
    "        \n",
    "        state=new_state_copy_version\n",
    "    \n",
    "    if(agent.epsilon>0.1):\n",
    "        agent.set_epsilon(0.99*agent.epsilon)\n",
    "    epsilons.append(agent.epsilon)\n",
    "    total_rewards.append(rewards_pe)\n",
    "    print(\"Episode is \",iterations+1,\" Rewards is \",rewards_pe)\n",
    "    \n",
    "        \n",
    "    "
   ]
  },
  {
   "cell_type": "markdown",
   "metadata": {
    "colab_type": "text",
    "id": "AHDJV4ZAE2l8"
   },
   "source": [
    "#### Visualize $\\epsilon$\n",
    "Plot our value of $\\epsilon$ over each episode"
   ]
  },
  {
   "cell_type": "code",
   "execution_count": 10,
   "metadata": {
    "colab": {},
    "colab_type": "code",
    "id": "q137fw4je8ln"
   },
   "outputs": [
    {
     "data": {
      "text/plain": [
       "[<matplotlib.lines.Line2D at 0x118e31c90>]"
      ]
     },
     "execution_count": 10,
     "metadata": {},
     "output_type": "execute_result"
    },
    {
     "data": {
      "image/png": "[encoded data removed]",
      "text/plain": [
       "<Figure size 432x288 with 1 Axes>"
      ]
     },
     "metadata": {
      "needs_background": "light"
     },
     "output_type": "display_data"
    }
   ],
   "source": [
    "plt.xlabel('Episode')\n",
    "plt.ylabel('$\\epsilon$')\n",
    "plt.plot(epsilons)"
   ]
  },
  {
   "cell_type": "markdown",
   "metadata": {
    "colab_type": "text",
    "id": "30Yr74K2e8lr"
   },
   "source": [
    "#### Visualize Rewards\n",
    "Plot total_rewards per episode.  We apply a rolling mean of window $10$ to visualize easier."
   ]
  },
  {
   "cell_type": "code",
   "execution_count": 11,
   "metadata": {
    "colab": {},
    "colab_type": "code",
    "id": "Raqojkywe8ls"
   },
   "outputs": [
    {
     "data": {
      "text/plain": [
       "[<matplotlib.lines.Line2D at 0x119063490>]"
      ]
     },
     "execution_count": 11,
     "metadata": {},
     "output_type": "execute_result"
    },
    {
     "data": {
      "image/png": "[encoded data removed]",
      "text/plain": [
       "<Figure size 432x288 with 1 Axes>"
      ]
     },
     "metadata": {
      "needs_background": "light"
     },
     "output_type": "display_data"
    }
   ],
   "source": [
    "window = 10\n",
    "plt.xlabel('Episode')\n",
    "plt.ylabel('Total Reward (SMA 10)')\n",
    "plt.plot([np.mean(total_rewards[tr:tr+window]) for tr in range(window, len(total_rewards))])"
   ]
  },
  {
   "cell_type": "code",
   "execution_count": 12,
   "metadata": {
    "colab": {},
    "colab_type": "code",
    "id": "M6wai0MeiGVG",
    "scrolled": false
   },
   "outputs": [
    {
     "data": {
      "image/png": "[encoded data removed]",
      "text/plain": [
       "<Figure size 432x288 with 1 Axes>"
      ]
     },
     "metadata": {
      "needs_background": "light"
     },
     "output_type": "display_data"
    },
    {
     "data": {
      "image/png": "[encoded data removed]",
      "text/plain": [
       "<Figure size 432x288 with 1 Axes>"
      ]
     },
     "metadata": {
      "needs_background": "light"
     },
     "output_type": "display_data"
    },
    {
     "data": {
      "image/png": "[encoded data removed]",
      "text/plain": [
       "<Figure size 432x288 with 1 Axes>"
      ]
     },
     "metadata": {
      "needs_background": "light"
     },
     "output_type": "display_data"
    },
    {
     "data": {
      "image/png": "[encoded data removed]",
      "text/plain": [
       "<Figure size 432x288 with 1 Axes>"
      ]
     },
     "metadata": {
      "needs_background": "light"
     },
     "output_type": "display_data"
    },
    {
     "data": {
      "image/png": "[encoded data removed]",
      "text/plain": [
       "<Figure size 432x288 with 1 Axes>"
      ]
     },
     "metadata": {
      "needs_background": "light"
     },
     "output_type": "display_data"
    },
    {
     "data": {
      "image/png": "[encoded data removed]",
      "text/plain": [
       "<Figure size 432x288 with 1 Axes>"
      ]
     },
     "metadata": {
      "needs_background": "light"
     },
     "output_type": "display_data"
    },
    {
     "data": {
      "image/png": "[encoded data removed]",
      "text/plain": [
       "<Figure size 432x288 with 1 Axes>"
      ]
     },
     "metadata": {
      "needs_background": "light"
     },
     "output_type": "display_data"
    },
    {
     "data": {
      "image/png": "[encoded data removed]",
      "text/plain": [
       "<Figure size 432x288 with 1 Axes>"
      ]
     },
     "metadata": {
      "needs_background": "light"
     },
     "output_type": "display_data"
    },
    {
     "data": {
      "image/png": "[encoded data removed]",
      "text/plain": [
       "<Figure size 432x288 with 1 Axes>"
      ]
     },
     "metadata": {
      "needs_background": "light"
     },
     "output_type": "display_data"
    }
   ],
   "source": [
    "env = GridEnvironment()\n",
    "\n",
    "obs = env.reset()\n",
    "done = False\n",
    "agent.epsilon = 0\n",
    "env.render()\n",
    "plt.show()\n",
    "\n",
    "while not done:\n",
    "    action = agent.step(obs)\n",
    "    obs, reward, done, info = env.step(action)\n",
    "    env.render()\n",
    "    plt.show()"
   ]
  }
 ],
 "metadata": {
  "colab": {
   "collapsed_sections": [
    "Bc3VOQuJF1el",
    "JCKzZh7u0zFJ"
   ],
   "name": "Copy of Template_Code",
   "provenance": []
  },
  "kernelspec": {
   "display_name": "Python 3",
   "language": "python",
   "name": "python3"
  },
  "language_info": {
   "codemirror_mode": {
    "name": "ipython",
    "version": 3
   },
   "file_extension": ".py",
   "mimetype": "text/x-python",
   "name": "python",
   "nbconvert_exporter": "python",
   "pygments_lexer": "ipython3",
   "version": "3.7.4"
  }
 },
 "nbformat": 4,
 "nbformat_minor": 1
}
